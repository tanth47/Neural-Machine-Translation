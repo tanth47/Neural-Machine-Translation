{
  "cells": [
    {
      "cell_type": "code",
      "execution_count": null,
      "metadata": {},
      "outputs": [],
      "source": [
        "# You better run this code on Kaggle"
      ]
    },
    {
      "cell_type": "markdown",
      "metadata": {
        "id": "qd0cqjyq0WWV"
      },
      "source": [
        "# Import Lib"
      ]
    },
    {
      "cell_type": "code",
      "execution_count": null,
      "metadata": {
        "id": "nZEdcWthRrco"
      },
      "outputs": [],
      "source": [
        "!pip install fairseq"
      ]
    },
    {
      "cell_type": "code",
      "execution_count": null,
      "metadata": {
        "execution": {
          "iopub.execute_input": "2023-04-30T19:20:48.436712Z",
          "iopub.status.busy": "2023-04-30T19:20:48.436309Z",
          "iopub.status.idle": "2023-04-30T19:21:13.539121Z",
          "shell.execute_reply": "2023-04-30T19:21:13.537819Z",
          "shell.execute_reply.started": "2023-04-30T19:20:48.436667Z"
        },
        "id": "nRPUxQvLtSwx",
        "trusted": true
      },
      "outputs": [],
      "source": [
        "import torch\n",
        "import torch.nn as nn\n",
        "import torch.nn.functional as F\n",
        "from torch.utils.data import TensorDataset, DataLoader, Dataset\n",
        "from transformers import get_linear_schedule_with_warmup, T5Tokenizer, T5ForConditionalGeneration, Trainer, TrainingArguments\n",
        "from fairseq.optim.adafactor import Adafactor\n",
        "import re, os, time, gc, codecs, string, math, heapq\n",
        "import numpy as np\n",
        "import nltk\n",
        "from nltk.tokenize import word_tokenize\n",
        "from nltk.corpus import stopwords\n",
        "from nltk.translate.bleu_score import corpus_bleu\n",
        "device = torch.device('cuda' if torch.cuda.is_available() else 'cpu')\n",
        "SRC_LANGUAGE = 'eng'\n",
        "TGT_LANGUAGE = 'vi'\n",
        "model_name = 't5-base'\n",
        "task_prefix = \"translate English to Vietnamese: \"\n"
      ]
    },
    {
      "cell_type": "code",
      "execution_count": null,
      "metadata": {
        "execution": {
          "iopub.execute_input": "2023-04-30T19:21:13.542389Z",
          "iopub.status.busy": "2023-04-30T19:21:13.541193Z",
          "iopub.status.idle": "2023-04-30T19:21:13.552775Z",
          "shell.execute_reply": "2023-04-30T19:21:13.552019Z",
          "shell.execute_reply.started": "2023-04-30T19:21:13.54234Z"
        },
        "id": "KGXapejY0WWZ",
        "trusted": true
      },
      "outputs": [],
      "source": [
        "NUM_EPOCHS = 20\n",
        "SAMPLES = 1e9\n",
        "MAX_LEN = 128\n",
        "continue_training_from_checkpoint = 0 # 0: retrain\n",
        "checkpoint_path = f'/kaggle/input/translate-machine-model-state-dict/pre_trained_checkpoint_{continue_training_from_checkpoint}.pth'\n",
        "batch_size = 16"
      ]
    },
    {
      "cell_type": "code",
      "execution_count": null,
      "metadata": {
        "execution": {
          "iopub.execute_input": "2023-04-30T19:21:13.557831Z",
          "iopub.status.busy": "2023-04-30T19:21:13.556953Z",
          "iopub.status.idle": "2023-04-30T19:21:23.690176Z",
          "shell.execute_reply": "2023-04-30T19:21:23.689035Z",
          "shell.execute_reply.started": "2023-04-30T19:21:13.557787Z"
        },
        "id": "OFZcPRC80WWZ",
        "trusted": true
      },
      "outputs": [],
      "source": [
        "model = T5ForConditionalGeneration.from_pretrained(model_name)\n",
        "tokenizer = T5Tokenizer.from_pretrained(model_name, model_max_length = MAX_LEN + 3, add_special_tokens=True)"
      ]
    },
    {
      "cell_type": "markdown",
      "metadata": {
        "id": "zoEhyJ6owUcV"
      },
      "source": [
        "# Data Preparing"
      ]
    },
    {
      "cell_type": "code",
      "execution_count": null,
      "metadata": {
        "execution": {
          "iopub.execute_input": "2023-04-30T19:21:23.692129Z",
          "iopub.status.busy": "2023-04-30T19:21:23.691707Z",
          "iopub.status.idle": "2023-04-30T19:21:29.836777Z",
          "shell.execute_reply": "2023-04-30T19:21:29.835498Z",
          "shell.execute_reply.started": "2023-04-30T19:21:23.692087Z"
        },
        "id": "jMCE8jiawi3L",
        "trusted": true
      },
      "outputs": [],
      "source": [
        "!git clone https://github.com/KCDichDaNgu/KC4.0_MultilingualNMT.git\n",
        "DATA_DIR = '/kaggle/working/KC4.0_MultilingualNMT/data/iwslt_en_vi'"
      ]
    },
    {
      "cell_type": "code",
      "execution_count": null,
      "metadata": {
        "execution": {
          "iopub.execute_input": "2023-04-30T19:21:29.841015Z",
          "iopub.status.busy": "2023-04-30T19:21:29.83947Z",
          "iopub.status.idle": "2023-04-30T19:21:29.857252Z",
          "shell.execute_reply": "2023-04-30T19:21:29.850261Z",
          "shell.execute_reply.started": "2023-04-30T19:21:29.840962Z"
        },
        "id": "3b8Zfqrj6FEv",
        "trusted": true
      },
      "outputs": [],
      "source": [
        "def preprocess_sentence(text, language):\n",
        "    # Lowercase the text\n",
        "#     text = text.lower()\n",
        "    \n",
        "    # Remove punctuations\n",
        "    text = text.translate(str.maketrans('', '', string.punctuation))\n",
        "    \n",
        "    # Handle special characters\n",
        "#     text = re.sub(r'\\d+', 'num', text) # Replace all digits with 'num'\n",
        "    text = re.sub(r'\\s+', ' ', text) # Replace multiple whitespaces with a single space\n",
        "        \n",
        "#     Tokenize the text\n",
        "#     words = word_tokenize(text)\n",
        "    \n",
        "#     if language == 'eng' and len(words) > 50:\n",
        "#         stop_words = set(stopwords.words('english'))\n",
        "#         words = [w for w in words if not w in stop_words]\n",
        "#     if language == 'vi' and len(words) > 50:\n",
        "#         f = codecs.open('/kaggle/input/sentiment-analysis-foody/vietnamese-stopwords.txt', encoding='utf-8')\n",
        "#         stop_words = []\n",
        "#         for i, line in enumerate(f):\n",
        "#             line = repr(line)\n",
        "#             line = line[1:len(line)-3]\n",
        "#             stop_words.append(line)\n",
        "#         words = [w for w in words if not w in stop_words]\n",
        "    # Deal with rare or infrequent words\n",
        "    if language == 'TGT_LANGUAGE':\n",
        "        return task_prefix + text.strip()\n",
        "    return text.strip()\n",
        "\n",
        "def load_data(source_file, target_file, number_of_examples, MAX_LEN):\n",
        "    source_sents = open(source_file, \"r\").readlines()\n",
        "    target_sents = open(target_file, \"r\").readlines()\n",
        "    assert len(source_sents) == len(target_sents)\n",
        "\n",
        "    source_data, target_data = [], []\n",
        "\n",
        "    for src_sentence, trg_sentence in zip(source_sents, target_sents):\n",
        "        if(len(source_data) >= number_of_examples):\n",
        "            break\n",
        "        source_data.append(preprocess_sentence(src_sentence, SRC_LANGUAGE))\n",
        "        target_data.append(preprocess_sentence(trg_sentence, TGT_LANGUAGE))\n",
        "    return source_data, target_data\n"
      ]
    },
    {
      "cell_type": "code",
      "execution_count": null,
      "metadata": {
        "execution": {
          "iopub.execute_input": "2023-04-30T19:21:29.860567Z",
          "iopub.status.busy": "2023-04-30T19:21:29.860035Z",
          "iopub.status.idle": "2023-04-30T19:21:36.562108Z",
          "shell.execute_reply": "2023-04-30T19:21:36.560997Z",
          "shell.execute_reply.started": "2023-04-30T19:21:29.860526Z"
        },
        "id": "4Mb5WAHb0WWb",
        "trusted": true
      },
      "outputs": [],
      "source": [
        "train_source_sentences, train_target_sentences = load_data(DATA_DIR+\"/train.en\", DATA_DIR+\"/train.vi\", SAMPLES, MAX_LEN)\n",
        "eval_source_sentences, eval_target_sentences = load_data(DATA_DIR+\"/tst2012.en\", DATA_DIR+\"/tst2012.vi\", SAMPLES, 1e9)"
      ]
    },
    {
      "cell_type": "code",
      "execution_count": null,
      "metadata": {
        "execution": {
          "iopub.execute_input": "2023-04-30T19:21:36.564081Z",
          "iopub.status.busy": "2023-04-30T19:21:36.563681Z",
          "iopub.status.idle": "2023-04-30T19:21:36.569857Z",
          "shell.execute_reply": "2023-04-30T19:21:36.568454Z",
          "shell.execute_reply.started": "2023-04-30T19:21:36.564039Z"
        },
        "id": "15EWhm1_0WWb",
        "trusted": true
      },
      "outputs": [],
      "source": [
        "# src_encoding = tokenizer.encode_plus('My name is tan and i love my something other plan songoku chicken', padding='max_length', max_length=50, truncation=True, return_tensors='pt')\n",
        "# {'input_ids': src_encoding['input_ids'][0], \n",
        "#                 'attention_mask': src_encoding['attention_mask'][0],}"
      ]
    },
    {
      "cell_type": "code",
      "execution_count": null,
      "metadata": {
        "execution": {
          "iopub.execute_input": "2023-04-30T19:21:36.572691Z",
          "iopub.status.busy": "2023-04-30T19:21:36.571818Z",
          "iopub.status.idle": "2023-04-30T19:21:36.584854Z",
          "shell.execute_reply": "2023-04-30T19:21:36.583953Z",
          "shell.execute_reply.started": "2023-04-30T19:21:36.572651Z"
        },
        "id": "3EYPXjIv0WWb",
        "trusted": true
      },
      "outputs": [],
      "source": [
        "class TranslationDataset(Dataset):\n",
        "    def __init__(self, src_texts, tgt_texts, tokenizer, max_len):\n",
        "        self.src_texts = src_texts\n",
        "        self.tgt_texts = tgt_texts\n",
        "        self.tokenizer = tokenizer\n",
        "        self.max_len = max_len\n",
        "        \n",
        "    def __len__(self):\n",
        "        return len(self.src_texts)\n",
        "    \n",
        "    def __getitem__(self, index):\n",
        "        src_text = str(self.src_texts[index])\n",
        "        tgt_text = str(self.tgt_texts[index])\n",
        "        \n",
        "        src_encoding = tokenizer.encode_plus(src_text, padding='max_length', max_length=self.max_len, truncation=True, return_tensors='pt')\n",
        "        tgt_encoding = tokenizer.encode_plus(tgt_text, padding='max_length', max_length=self.max_len, truncation=True, return_tensors='pt')\n",
        "        labels = tgt_encoding['input_ids'][0].clone() # deep copy\n",
        "        # replace padding token id's of the labels by -100 so it's ignored by the loss\n",
        "        labels[labels == tokenizer.pad_token_id] = -100 \n",
        "        return {'input_ids': src_encoding['input_ids'][0], \n",
        "                'attention_mask': src_encoding['attention_mask'][0],\n",
        "                'decoder_input_ids': tgt_encoding['input_ids'][0],\n",
        "                'decoder_attention_mask': tgt_encoding['attention_mask'][0],\n",
        "                'labels': labels}\n"
      ]
    },
    {
      "cell_type": "code",
      "execution_count": null,
      "metadata": {
        "execution": {
          "iopub.execute_input": "2023-04-30T19:21:36.589804Z",
          "iopub.status.busy": "2023-04-30T19:21:36.589141Z",
          "iopub.status.idle": "2023-04-30T19:21:36.596321Z",
          "shell.execute_reply": "2023-04-30T19:21:36.595614Z",
          "shell.execute_reply.started": "2023-04-30T19:21:36.589766Z"
        },
        "id": "_iMcxBP50WWb",
        "trusted": true
      },
      "outputs": [],
      "source": [
        "train_dataset = TranslationDataset(train_source_sentences, train_target_sentences, tokenizer, max_len=MAX_LEN + 3)\n",
        "eval_dataset = TranslationDataset(eval_source_sentences, eval_target_sentences, tokenizer, max_len=MAX_LEN + 3)\n",
        "train_dataloader = DataLoader(train_dataset, batch_size=batch_size, shuffle=True)\n",
        "eval_dataloader = DataLoader(eval_dataset, batch_size=batch_size, shuffle=True)"
      ]
    },
    {
      "cell_type": "markdown",
      "metadata": {
        "id": "GIAuA4oEBkIR"
      },
      "source": [
        "# Training Model"
      ]
    },
    {
      "cell_type": "markdown",
      "metadata": {
        "id": "BAqpgBgS0WWc"
      },
      "source": [
        "# Let's go bruhhh"
      ]
    },
    {
      "cell_type": "code",
      "execution_count": null,
      "metadata": {
        "execution": {
          "iopub.execute_input": "2023-04-30T19:23:18.664543Z",
          "iopub.status.busy": "2023-04-30T19:23:18.664136Z",
          "iopub.status.idle": "2023-04-30T19:23:18.678256Z",
          "shell.execute_reply": "2023-04-30T19:23:18.677131Z",
          "shell.execute_reply.started": "2023-04-30T19:23:18.664508Z"
        },
        "id": "o6rf-mZH0WWc",
        "trusted": true
      },
      "outputs": [],
      "source": [
        "def train_epoch(epoch, model, optimizer, scheduler, dataloader):\n",
        "    model.train()\n",
        "    losses = 0\n",
        "    total = 0\n",
        "    for batch_id, batch_data in enumerate(dataloader):\n",
        "        input_ids = batch_data['input_ids'].to(device)\n",
        "        attention_mask = batch_data['attention_mask'].to(device)\n",
        "        labels = batch_data['labels'].to(device)\n",
        "        \n",
        "        outputs = model(input_ids=input_ids, \n",
        "                        attention_mask=attention_mask, \n",
        "                        labels=labels)\n",
        "        loss = outputs[0]\n",
        "        \n",
        "        optimizer.zero_grad()\n",
        "        loss.backward()\n",
        "        \n",
        "        losses += loss.item()\n",
        "        total += batch_data['input_ids'].size(0)\n",
        "        \n",
        "        optimizer.step()\n",
        "        scheduler.step()\n",
        "\n",
        "        del input_ids\n",
        "        del attention_mask\n",
        "        del labels\n",
        "        gc.collect()\n",
        "        torch.cuda.empty_cache()\n",
        "        if batch_id % 100 == 0 or batch_id < 10:\n",
        "            print(f\"\"\"Total loss: {losses:.4f} | Total: {total} | Loss per batch: {losses/(batch_id + 1):.4f}\"\"\")\n",
        "    \n",
        "    checkpoint = {\n",
        "        'epoch': epoch,\n",
        "        'model_state_dict': model.state_dict(),\n",
        "        'optimizer_state_dict': optimizer.state_dict(),\n",
        "        'scheduler_state_dict': scheduler.state_dict(),\n",
        "        'loss': losses / len(dataloader),\n",
        "    }\n",
        "    if epoch > continue_training_from_checkpoint and epoch % 1 == 0:\n",
        "        torch.save(checkpoint, f'/kaggle/working/pre_trained_checkpoint_{epoch}.pth')\n",
        "    del checkpoint\n",
        "    gc.collect()\n",
        "    return losses / len(dataloader)\n",
        "\n",
        "def eval_epoch(model, dataloader):\n",
        "    model.eval()\n",
        "    output_sentence = []\n",
        "    tgt_sentence = []\n",
        "    total = 0\n",
        "    for batch_id, batch_data in enumerate(dataloader):\n",
        "        input_ids = batch_data['input_ids'].to(device)\n",
        "        attention_mask = batch_data['attention_mask'].to(device)\n",
        "        decoder_input_ids = batch_data['decoder_input_ids'].to(device)\n",
        "        \n",
        "        output_token_id = model.generate(input_ids=input_ids, \n",
        "                        attention_mask=attention_mask, max_length = MAX_LEN + 3)\n",
        "        output_sentence.extend([sentence.split() for sentence in tokenizer.batch_decode(output_token_id, skip_special_tokens=True)])\n",
        "        tgt_sentence.extend([[sentence.split()] for sentence in tokenizer.batch_decode(decoder_input_ids, skip_special_tokens=True)])\n",
        "        \n",
        "        total += batch_data['input_ids'].size(0)\n",
        "        del input_ids\n",
        "        del attention_mask\n",
        "        del decoder_input_ids\n",
        "        gc.collect()\n",
        "        torch.cuda.empty_cache()\n",
        "        if batch_id % 10 == 0:\n",
        "            print(f\"\"\"Processed: {total} sequences\"\"\")\n",
        "\n",
        "#     print((tgt_sentence))\n",
        "#     print(len(tgt_sentence), len(tgt_sentence[0]))\n",
        "#     print('--------------')\n",
        "#     print(output_sentence)\n",
        "#     print(len(output_sentence))\n",
        "    bleu_score = corpus_bleu(tgt_sentence, output_sentence)\n",
        "\n",
        "    return bleu_score\n",
        "\n",
        "# def eval_epoch"
      ]
    },
    {
      "cell_type": "code",
      "execution_count": null,
      "metadata": {
        "execution": {
          "iopub.execute_input": "2023-04-30T19:23:19.132534Z",
          "iopub.status.busy": "2023-04-30T19:23:19.132134Z"
        },
        "id": "I_me1Hh8Jhgd",
        "trusted": true
      },
      "outputs": [],
      "source": [
        "# Optimize ram usage \n",
        "# del train_source_sentences\n",
        "# del train_target_sentences \n",
        "# del eval_source_sentences\n",
        "# del eval_target_sentences \n",
        "# del train_dataset\n",
        "# del eval_dataset\n",
        "gc.collect()\n",
        "torch.cuda.empty_cache()\n",
        "\n",
        "model.to(device)\n",
        "optimizer = Adafactor(model.parameters(), \n",
        "                        lr=3e-4, \n",
        "                        eps=(1e-30, 1e-3),\n",
        "                        clip_threshold=1.0,\n",
        "                        decay_rate=-0.8,\n",
        "                        beta1=None,\n",
        "                        weight_decay=0.0,\n",
        "                        relative_step=False,\n",
        "                        scale_parameter=False,\n",
        "                        warmup_init=False)\n",
        "num_training_steps = len(train_dataloader) * NUM_EPOCHS\n",
        "num_warmup_steps = 500\n",
        "scheduler = get_linear_schedule_with_warmup(optimizer, num_warmup_steps=num_warmup_steps, num_training_steps=num_training_steps)\n",
        "\n",
        "if continue_training_from_checkpoint > 0:\n",
        "    checkpoint = torch.load(checkpoint_path)\n",
        "    model.load_state_dict(checkpoint['model_state_dict'])\n",
        "    optimizer.load_state_dict(checkpoint['optimizer_state_dict'])\n",
        "    scheduler.load_state_dict(checkpoint['scheduler_state_dict']) \n",
        "    epoch = checkpoint['epoch']\n",
        "    loss = checkpoint['loss']\n",
        "    print(f\"Epoch: {epoch}, Avg train loss: {loss:.3f}\")\n",
        "\n",
        "bleu_score =  0 # bleu score for epoch 6\n",
        "for epoch in range(continue_training_from_checkpoint+1, NUM_EPOCHS+1):\n",
        "    print(f'======== Epoch {epoch} / {NUM_EPOCHS} ========')\n",
        "    print('Training...')\n",
        "    start_time = time.time()\n",
        "    train_loss = train_epoch(epoch, model, optimizer, scheduler, train_dataloader)\n",
        "    end_time = time.time()\n",
        "    print((f\"Epoch: {epoch}, Train loss: {train_loss:.3f}, \"f\"Training time = {(end_time - start_time):.3f}s\"))\n",
        "    print('Validating...')\n",
        "    start_time = time.time()\n",
        "    bleu_score_tmp = eval_epoch(model, eval_dataloader)\n",
        "    end_time = time.time()\n",
        "    print((f\"Epoch: {epoch}, Bleu Score: {bleu_score_tmp:.6f}, \"f\"Validating time = {(end_time - start_time):.3f}s\"))\n",
        "    if bleu_score_tmp - bleu_score >= 1e-4:\n",
        "        bleu_score = bleu_score_tmp\n",
        "        checkpoint = {\n",
        "            'epoch': epoch,\n",
        "            'model_state_dict': model.state_dict(),\n",
        "            'optimizer_state_dict': optimizer.state_dict(),\n",
        "            'scheduler_state_dict': scheduler.state_dict(),\n",
        "            'loss': train_loss,\n",
        "            'bleu_score': bleu_score_tmp\n",
        "        }\n",
        "        torch.save(checkpoint, f'/kaggle/working/best_pre_trained.pth')\n",
        "print('Best bleu score: ', bleu_score)\n"
      ]
    },
    {
      "cell_type": "code",
      "execution_count": null,
      "metadata": {
        "id": "Tp0kPcY40WWd",
        "trusted": true
      },
      "outputs": [],
      "source": [
        "def eval_by_KC(model, dataloader):\n",
        "    model.eval()\n",
        "    output_sentence = []\n",
        "    tgt_sentence = []\n",
        "    total = 0\n",
        "    for batch_id, batch_data in enumerate(dataloader):\n",
        "        input_ids = batch_data['input_ids'].to(device)\n",
        "        attention_mask = batch_data['attention_mask'].to(device)\n",
        "        decoder_input_ids = batch_data['decoder_input_ids'].to(device)\n",
        "        \n",
        "        output_token_id = model.generate(input_ids=input_ids, \n",
        "                        attention_mask=attention_mask, max_length = MAX_LEN + 3)\n",
        "        output_sentence.extend(tokenizer.batch_decode(output_token_id, skip_special_tokens=True))\n",
        "        tgt_sentence.extend(tokenizer.batch_decode(decoder_input_ids, skip_special_tokens=True))\n",
        "        \n",
        "        total += batch_data['input_ids'].size(0)\n",
        "        del input_ids\n",
        "        del attention_mask\n",
        "        del decoder_input_ids\n",
        "        gc.collect()\n",
        "        torch.cuda.empty_cache()\n",
        "        if batch_id % 10 == 0:\n",
        "            print(f\"\"\"Processed: {total} sequences\"\"\")\n",
        "\n",
        "    with open('/kaggle/working/translate.en2vi.vi', 'w') as f:\n",
        "        for sentence in output_sentence:\n",
        "            f.write(sentence + '\\n')\n",
        "    \n",
        "    with open('/kaggle/working/tst2012.vi', 'w') as f:\n",
        "        for sentence in tgt_sentence:\n",
        "            f.write(sentence + '\\n')\n",
        "\n",
        "            \n",
        "eval_by_KC(model, eval_dataloader)"
      ]
    },
    {
      "cell_type": "code",
      "execution_count": null,
      "metadata": {
        "id": "IG0iVX1W0WWe"
      },
      "outputs": [],
      "source": [
        "%cd /kaggle/working/KC4.0_MultilingualNMT/third-party\n",
        "!perl ./multi-bleu.perl /kaggle/working/translate.en2vi.vi < /kaggle/working/tst2012.vi"
      ]
    }
  ],
  "metadata": {
    "colab": {
      "provenance": []
    },
    "kernelspec": {
      "display_name": "Python 3",
      "language": "python",
      "name": "python3"
    },
    "language_info": {
      "codemirror_mode": {
        "name": "ipython",
        "version": 3
      },
      "file_extension": ".py",
      "mimetype": "text/x-python",
      "name": "python",
      "nbconvert_exporter": "python",
      "pygments_lexer": "ipython3",
      "version": "3.6.4"
    }
  },
  "nbformat": 4,
  "nbformat_minor": 0
}
